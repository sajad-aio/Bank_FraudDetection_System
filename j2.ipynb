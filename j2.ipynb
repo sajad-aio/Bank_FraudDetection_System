{
 "cells": [
  {
   "cell_type": "code",
   "execution_count": 3,
   "id": "9ac90763",
   "metadata": {},
   "outputs": [],
   "source": [
    "import pandas as pd\n",
    "df = pd.read_csv('fraudTest.csv')\n",
    "df = df.select_dtypes(include=['number'])"
   ]
  },
  {
   "cell_type": "code",
   "execution_count": null,
   "id": "da82e02a",
   "metadata": {},
   "outputs": [],
   "source": [
    "from sklearn.model_selection import train_test_split\n",
    "from sklearn.ensemble import RandomForestClassifier\n",
    "x = df.drop(['is_fraud','ategory'], axis=1)\n",
    "y = df['is_fraud']\n",
    "X_train, X_test, y_train, y_test = train_test_split(x, y, test_size=0.2, random_state=42)\n",
    "model = RandomForestClassifier(n_estimators=50, random_state=42)\n"
   ]
  },
  {
   "cell_type": "code",
   "execution_count": 5,
   "id": "aeeb0720",
   "metadata": {},
   "outputs": [],
   "source": [
    "model.fit(X_train , y_train)\n",
    "out=model.predict(X_test)"
   ]
  },
  {
   "cell_type": "code",
   "execution_count": 6,
   "id": "1c611688",
   "metadata": {},
   "outputs": [
    {
     "name": "stdout",
     "output_type": "stream",
     "text": [
      "Accuracy Score: 99.77326711293458 %\n",
      "R2 Score: 40.61746515509904 %\n"
     ]
    }
   ],
   "source": [
    "from sklearn.metrics import r2_score , accuracy_score\n",
    "\n",
    "print(\"Accuracy Score:\", accuracy_score(y_test, out)*100,'%')\n",
    "print(\"R2 Score:\", r2_score(y_test, out)*100,'%')"
   ]
  },
  {
   "cell_type": "code",
   "execution_count": null,
   "id": "1930a59e",
   "metadata": {},
   "outputs": [],
   "source": [
    "import pickle\n",
    "\n",
    "# Save the trained model as a pickle string.\n",
    "saved_model = pickle.dumps(model)\n",
    "\n",
    "# Load the pickled model\n",
    "model_from_pickle = pickle.loads(saved_model)\n",
    "\n",
    "# Use the loaded pickled model to make predictions\n",
    "model_from_pickle.predict(X_test)"
   ]
  },
  {
   "cell_type": "code",
   "execution_count": 8,
   "id": "745e3e04",
   "metadata": {},
   "outputs": [
    {
     "data": {
      "text/plain": [
       "['filename.pkl']"
      ]
     },
     "execution_count": 8,
     "metadata": {},
     "output_type": "execute_result"
    }
   ],
   "source": [
    "from joblib import Parallel, delayed\n",
    "import joblib\n",
    "\n",
    "\n",
    "# Save the model as a pickle in a file\n",
    "joblib.dump(model, 'filename.pkl')\n",
    "\n",
    "# Load the model from the file\n"
   ]
  }
 ],
 "metadata": {
  "kernelspec": {
   "display_name": "Python 3",
   "language": "python",
   "name": "python3"
  },
  "language_info": {
   "codemirror_mode": {
    "name": "ipython",
    "version": 3
   },
   "file_extension": ".py",
   "mimetype": "text/x-python",
   "name": "python",
   "nbconvert_exporter": "python",
   "pygments_lexer": "ipython3",
   "version": "3.8.8"
  }
 },
 "nbformat": 4,
 "nbformat_minor": 5
}
